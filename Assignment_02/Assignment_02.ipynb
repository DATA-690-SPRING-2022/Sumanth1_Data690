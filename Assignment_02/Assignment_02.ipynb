{
 "cells": [
  {
   "cell_type": "markdown",
   "metadata": {},
   "source": [
    "# Enter 10 integers"
   ]
  },
  {
   "cell_type": "code",
   "execution_count": 1,
   "metadata": {},
   "outputs": [
    {
     "name": "stdout",
     "output_type": "stream",
     "text": [
      "Enter 10 intigers\n",
      "Enter your value1\n",
      "Enter your value2\n",
      "Enter your value3\n",
      "Enter your value4\n",
      "Enter your value5\n",
      "Enter your value6\n",
      "Enter your value7\n",
      "Enter your value8\n",
      "Enter your value9\n",
      "Enter your value10\n"
     ]
    }
   ],
   "source": [
    "intigers = []\n",
    "print(\"Enter 10 intigers\")\n",
    "for i in range(10):\n",
    "    x=int(input(\"Enter your value\"))\n",
    "    intigers.append(x)"
   ]
  },
  {
   "cell_type": "markdown",
   "metadata": {},
   "source": [
    "# Displaying the 10 integers back "
   ]
  },
  {
   "cell_type": "code",
   "execution_count": 2,
   "metadata": {},
   "outputs": [
    {
     "name": "stdout",
     "output_type": "stream",
     "text": [
      "The entered values are [1, 2, 3, 4, 5, 6, 7, 8, 9, 10]\n"
     ]
    }
   ],
   "source": [
    "print(\"The entered values are\",intigers)"
   ]
  },
  {
   "cell_type": "markdown",
   "metadata": {},
   "source": [
    "# Finding Maxium and Minimum Values"
   ]
  },
  {
   "cell_type": "code",
   "execution_count": 3,
   "metadata": {},
   "outputs": [],
   "source": [
    "total=0\n",
    "minimum=intigers[0]\n",
    "for i in range(10):\n",
    "    total+=intigers[i]\n",
    "    if intigers[i]<minimum:\n",
    "        minimum=intigers[i]\n",
    "     \n",
    "maximum=intigers[0]\n",
    "for i in range(10):\n",
    "    if intigers[i]>maximum:\n",
    "        maximum=intigers[i]     "
   ]
  },
  {
   "cell_type": "markdown",
   "metadata": {},
   "source": [
    "# Finding Range and Mean"
   ]
  },
  {
   "cell_type": "code",
   "execution_count": 4,
   "metadata": {},
   "outputs": [
    {
     "name": "stdout",
     "output_type": "stream",
     "text": [
      "Minimum of the data is 1\n",
      "Maximum of the data is 10\n",
      "Range of the data is 9\n",
      "Mean of the data is 5.5\n"
     ]
    }
   ],
   "source": [
    "print(\"Minimum of the data is\",minimum)\n",
    "print(\"Maximum of the data is\",maximum)\n",
    "print(\"Range of the data is\",maximum-minimum)\n",
    "print(\"Mean of the data is\",total/len(intigers))"
   ]
  },
  {
   "cell_type": "markdown",
   "metadata": {},
   "source": [
    "# Finding Variance"
   ]
  },
  {
   "cell_type": "code",
   "execution_count": 6,
   "metadata": {},
   "outputs": [
    {
     "name": "stdout",
     "output_type": "stream",
     "text": [
      "Please enter 10 digit\n",
      "1\n",
      "2\n",
      "3\n",
      "4\n",
      "5\n",
      "6\n",
      "7\n",
      "8\n",
      "9\n",
      "10\n",
      "[1, 2, 3, 4, 5, 6, 7, 8, 9, 10]\n"
     ]
    }
   ],
   "source": [
    "lst=[]\n",
    "print(\"Please enter 10 digit\")\n",
    "for i in range(0, 10):\n",
    "    ele = int(input())\n",
    " \n",
    "    lst.append(ele) # adding the element\n",
    "     \n",
    "print(lst)"
   ]
  },
  {
   "cell_type": "code",
   "execution_count": 7,
   "metadata": {},
   "outputs": [
    {
     "name": "stdout",
     "output_type": "stream",
     "text": [
      "5.5\n",
      "Variance\n",
      "8.25\n"
     ]
    }
   ],
   "source": [
    "sum=0\n",
    "for i in lst:\n",
    "  sum=sum+i\n",
    "mean=sum/len(lst)\n",
    "print(mean)\n",
    "\n",
    "variance_sub=0\n",
    "for i in lst:\n",
    "  variance_sub=variance_sub+((i-mean)*(i-mean))\n",
    "print('Variance')\n",
    "variance=variance_sub/(len(lst))\n",
    "print(variance)"
   ]
  },
  {
   "cell_type": "code",
   "execution_count": 8,
   "metadata": {},
   "outputs": [
    {
     "name": "stdout",
     "output_type": "stream",
     "text": [
      "standard deviation\n",
      "2.8722813232690143\n"
     ]
    }
   ],
   "source": [
    "print('standard deviation')\n",
    "standarddeviation=variance**(1/2)\n",
    "print(standarddeviation)"
   ]
  },
  {
   "cell_type": "code",
   "execution_count": null,
   "metadata": {},
   "outputs": [],
   "source": []
  }
 ],
 "metadata": {
  "kernelspec": {
   "display_name": "Python 3",
   "language": "python",
   "name": "python3"
  },
  "language_info": {
   "codemirror_mode": {
    "name": "ipython",
    "version": 3
   },
   "file_extension": ".py",
   "mimetype": "text/x-python",
   "name": "python",
   "nbconvert_exporter": "python",
   "pygments_lexer": "ipython3",
   "version": "3.8.3"
  }
 },
 "nbformat": 4,
 "nbformat_minor": 5
}
