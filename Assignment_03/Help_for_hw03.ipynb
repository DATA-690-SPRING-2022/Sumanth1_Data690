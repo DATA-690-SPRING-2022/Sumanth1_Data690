{
  "nbformat": 4,
  "nbformat_minor": 0,
  "metadata": {
    "colab": {
      "name": "Help_for_hw03.ipynb",
      "provenance": [],
      "authorship_tag": "ABX9TyO7ziWDMWVqwTyjZpM+Eovg",
      "include_colab_link": true
    },
    "kernelspec": {
      "name": "python3",
      "display_name": "Python 3"
    },
    "language_info": {
      "name": "python"
    }
  },
  "cells": [
    {
      "cell_type": "markdown",
      "metadata": {
        "id": "view-in-github",
        "colab_type": "text"
      },
      "source": [
        "<a href=\"https://colab.research.google.com/github/VENKATB3/Sumanth1_Data690/blob/main/Assignment_03/Help_for_hw03.ipynb\" target=\"_parent\"><img src=\"https://colab.research.google.com/assets/colab-badge.svg\" alt=\"Open In Colab\"/></a>"
      ]
    },
    {
      "cell_type": "code",
      "execution_count": 2,
      "metadata": {
        "colab": {
          "base_uri": "https://localhost:8080/"
        },
        "id": "P5Z1JAByw4o3",
        "outputId": "4048dc29-1521-4792-8bf6-bb125648e9a9"
      },
      "outputs": [
        {
          "output_type": "stream",
          "name": "stdout",
          "text": [
            "[2, 3, 5, 'Sumanth', 'Teja']\n"
          ]
        }
      ],
      "source": [
        "x = [2,3,5, 'Sumanth', 'Teja']\n",
        "print(x)"
      ]
    },
    {
      "cell_type": "code",
      "source": [
        "for a in x:\n",
        "   print(x)"
      ],
      "metadata": {
        "colab": {
          "base_uri": "https://localhost:8080/"
        },
        "id": "-JEoIu9rxR7f",
        "outputId": "3b42c1b6-63d4-4bbe-e690-950be7080a79"
      },
      "execution_count": 7,
      "outputs": [
        {
          "output_type": "stream",
          "name": "stdout",
          "text": [
            "[2, 3, 5, 'Sumanth', 'Teja']\n",
            "[2, 3, 5, 'Sumanth', 'Teja']\n",
            "[2, 3, 5, 'Sumanth', 'Teja']\n",
            "[2, 3, 5, 'Sumanth', 'Teja']\n",
            "[2, 3, 5, 'Sumanth', 'Teja']\n"
          ]
        }
      ]
    },
    {
      "cell_type": "code",
      "source": [
        "5 in x"
      ],
      "metadata": {
        "colab": {
          "base_uri": "https://localhost:8080/"
        },
        "id": "357BUEm8xkJS",
        "outputId": "53edb7c9-3b86-4093-c3b7-492e2ec9aa1d"
      },
      "execution_count": 4,
      "outputs": [
        {
          "output_type": "execute_result",
          "data": {
            "text/plain": [
              "True"
            ]
          },
          "metadata": {},
          "execution_count": 4
        }
      ]
    },
    {
      "cell_type": "code",
      "source": [
        "if 5 in x:\n",
        "   print(\"5 is a number of a list x.\")\n",
        "else:\n",
        "   print(\"5 is not a number\")"
      ],
      "metadata": {
        "colab": {
          "base_uri": "https://localhost:8080/"
        },
        "id": "xGZY1eBgx76t",
        "outputId": "f15d0e2f-8345-4077-9c39-c286ff16d182"
      },
      "execution_count": 5,
      "outputs": [
        {
          "output_type": "stream",
          "name": "stdout",
          "text": [
            "5 is a number of a list x.\n"
          ]
        }
      ]
    },
    {
      "cell_type": "code",
      "source": [
        "y = [5, 1, 5, 6, 2, 7, 8, 6, 4, 2]\n",
        "print(y) "
      ],
      "metadata": {
        "colab": {
          "base_uri": "https://localhost:8080/"
        },
        "id": "W53lA5pUypwU",
        "outputId": "21452a5d-3901-4e78-e8d0-1f13fc0bdb5c"
      },
      "execution_count": 10,
      "outputs": [
        {
          "output_type": "stream",
          "name": "stdout",
          "text": [
            "[5, 1, 5, 6, 2, 7, 8, 6, 4, 2]\n"
          ]
        }
      ]
    },
    {
      "cell_type": "code",
      "source": [
        "for b in y:\n",
        "    print(b, end=\" \")"
      ],
      "metadata": {
        "colab": {
          "base_uri": "https://localhost:8080/"
        },
        "id": "wCc92rkUzUaX",
        "outputId": "a9bac1cd-d676-4433-de2e-0472b00f8970"
      },
      "execution_count": 13,
      "outputs": [
        {
          "output_type": "stream",
          "name": "stdout",
          "text": [
            "5 1 5 6 2 7 8 6 4 2 "
          ]
        }
      ]
    },
    {
      "cell_type": "code",
      "source": [
        "import random"
      ],
      "metadata": {
        "id": "rVFrsmY90FwB"
      },
      "execution_count": 14,
      "outputs": []
    },
    {
      "cell_type": "code",
      "source": [
        "random.randint(0,9)"
      ],
      "metadata": {
        "colab": {
          "base_uri": "https://localhost:8080/"
        },
        "id": "5iHXFjUz0RrW",
        "outputId": "63f5ca3e-f3d7-4930-84f5-a71f0372cd0d"
      },
      "execution_count": 22,
      "outputs": [
        {
          "output_type": "execute_result",
          "data": {
            "text/plain": [
              "1"
            ]
          },
          "metadata": {},
          "execution_count": 22
        }
      ]
    },
    {
      "cell_type": "code",
      "source": [
        "for i in range(0,9):\n",
        "    print(random.randint(0,9))"
      ],
      "metadata": {
        "colab": {
          "base_uri": "https://localhost:8080/"
        },
        "id": "kwBxjZGP0fSg",
        "outputId": "ed24fc1e-aca3-469f-e5f6-ae79f9872cd4"
      },
      "execution_count": 24,
      "outputs": [
        {
          "output_type": "stream",
          "name": "stdout",
          "text": [
            "5\n",
            "5\n",
            "3\n",
            "5\n",
            "0\n",
            "4\n",
            "6\n",
            "5\n",
            "8\n"
          ]
        }
      ]
    },
    {
      "cell_type": "code",
      "source": [
        "for j in range(10):\n",
        "    for j in range(10):\n",
        "        print(random.randint(0,9), end=\" \")\n",
        "    print(\"\\n\", end=\"\")\n",
        "print(\"\")"
      ],
      "metadata": {
        "colab": {
          "base_uri": "https://localhost:8080/"
        },
        "id": "VnKFHDl50sF-",
        "outputId": "c46fbeb8-f5fc-4106-d872-858b012f427e"
      },
      "execution_count": 30,
      "outputs": [
        {
          "output_type": "stream",
          "name": "stdout",
          "text": [
            "7 6 5 6 3 4 8 3 7 0 \n",
            "6 8 9 4 6 8 6 5 4 3 \n",
            "3 0 6 9 5 2 2 0 4 1 \n",
            "1 8 7 0 6 0 9 6 4 8 \n",
            "5 4 6 4 6 0 1 6 9 9 \n",
            "1 3 7 3 5 1 2 3 2 8 \n",
            "7 5 2 2 1 8 0 7 5 3 \n",
            "1 9 2 4 5 6 8 4 3 2 \n",
            "2 5 1 0 5 3 2 2 0 1 \n",
            "1 7 6 2 7 4 0 9 0 6 \n",
            "\n"
          ]
        }
      ]
    },
    {
      "cell_type": "code",
      "source": [
        ""
      ],
      "metadata": {
        "id": "titpUyEW2Lh_"
      },
      "execution_count": null,
      "outputs": []
    }
  ]
}