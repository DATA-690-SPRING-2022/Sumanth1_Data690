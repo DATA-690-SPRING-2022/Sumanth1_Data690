{
  "nbformat": 4,
  "nbformat_minor": 0,
  "metadata": {
    "colab": {
      "name": "Assignment_03.ipynb",
      "provenance": [],
      "authorship_tag": "ABX9TyNsHKNlCWyrpYQDZa3zseRw",
      "include_colab_link": true
    },
    "kernelspec": {
      "name": "python3",
      "display_name": "Python 3"
    },
    "language_info": {
      "name": "python"
    }
  },
  "cells": [
    {
      "cell_type": "markdown",
      "metadata": {
        "id": "view-in-github",
        "colab_type": "text"
      },
      "source": [
        "<a href=\"https://colab.research.google.com/github/VENKATB3/Sumanth1_Data690/blob/main/Assignment_03/Assignment_03.ipynb\" target=\"_parent\"><img src=\"https://colab.research.google.com/assets/colab-badge.svg\" alt=\"Open In Colab\"/></a>"
      ]
    },
    {
      "cell_type": "code",
      "execution_count": 1,
      "metadata": {
        "id": "SD7KXRmKFDk4"
      },
      "outputs": [],
      "source": [
        "from random import randrange"
      ]
    },
    {
      "cell_type": "code",
      "source": [
        "#1\n",
        "numbers=[]\n",
        "for i in range(100):\n",
        "    numbers.append(randrange(9))\n",
        "\n",
        "count=0\n",
        "for i in range(10):\n",
        "    for j in range(10):\n",
        "        print(numbers[count],\" \", end =\" \")\n",
        "        count+=1\n",
        "    print(\"\\n\")"
      ],
      "metadata": {
        "colab": {
          "base_uri": "https://localhost:8080/"
        },
        "id": "bWjRH73lFITE",
        "outputId": "31809259-c0ad-4e61-e7a5-0f8ccb491b42"
      },
      "execution_count": 2,
      "outputs": [
        {
          "output_type": "stream",
          "name": "stdout",
          "text": [
            "8   1   0   2   7   1   5   5   3   7   \n",
            "\n",
            "3   4   7   2   2   7   5   4   2   1   \n",
            "\n",
            "1   3   4   6   7   6   7   6   5   8   \n",
            "\n",
            "2   5   8   0   3   3   7   2   7   6   \n",
            "\n",
            "3   8   7   5   1   5   4   1   5   6   \n",
            "\n",
            "1   8   7   8   4   4   6   8   6   4   \n",
            "\n",
            "1   4   8   8   5   2   3   6   1   4   \n",
            "\n",
            "0   0   1   1   6   8   1   1   4   2   \n",
            "\n",
            "2   7   4   2   3   2   3   3   7   6   \n",
            "\n",
            "0   0   5   4   3   4   7   5   8   0   \n",
            "\n"
          ]
        }
      ]
    },
    {
      "cell_type": "code",
      "source": [
        "#2\n",
        "number=[]\n",
        "for i in range(100):\n",
        "    a=randrange(9)\n",
        "    if a%2==0:\n",
        "        number.append(a)\n",
        "    else:\n",
        "        number.append(\"@\")\n",
        "\n",
        "count=0\n",
        "for i in range(10):\n",
        "    for j in range(10):\n",
        "        print(number[count],\" \", end =\" \")\n",
        "        count+=1\n",
        "    print(\"\\n\")"
      ],
      "metadata": {
        "colab": {
          "base_uri": "https://localhost:8080/"
        },
        "id": "Zmi--ABxFNi9",
        "outputId": "852c3e85-2e21-44a5-ebce-899e3ea83e6b"
      },
      "execution_count": 3,
      "outputs": [
        {
          "output_type": "stream",
          "name": "stdout",
          "text": [
            "2   @   6   6   @   @   @   6   0   @   \n",
            "\n",
            "0   @   @   @   2   @   @   @   8   @   \n",
            "\n",
            "@   0   @   @   6   @   @   8   2   2   \n",
            "\n",
            "@   6   6   @   0   8   8   @   2   @   \n",
            "\n",
            "@   6   @   4   0   6   @   @   @   4   \n",
            "\n",
            "4   @   0   0   @   0   @   @   0   @   \n",
            "\n",
            "@   @   @   @   6   0   @   0   @   @   \n",
            "\n",
            "2   6   @   2   @   6   @   2   2   @   \n",
            "\n",
            "4   @   4   2   4   4   4   2   @   4   \n",
            "\n",
            "@   0   @   @   6   2   6   4   @   @   \n",
            "\n"
          ]
        }
      ]
    },
    {
      "cell_type": "code",
      "source": [
        "#3\n",
        "count=0\n",
        "for i in range(10):\n",
        "    sum=0\n",
        "    for j in range(10):\n",
        "        print(numbers[count],\" \", end =\" \")\n",
        "        sum+=numbers[count]\n",
        "        count+=1\n",
        "    print(\"*\",sum,\"\\n\")"
      ],
      "metadata": {
        "colab": {
          "base_uri": "https://localhost:8080/"
        },
        "id": "aAKwmsccFSQp",
        "outputId": "70597fe1-0bef-43a5-cdef-742937de7964"
      },
      "execution_count": 4,
      "outputs": [
        {
          "output_type": "stream",
          "name": "stdout",
          "text": [
            "8   1   0   2   7   1   5   5   3   7   * 39 \n",
            "\n",
            "3   4   7   2   2   7   5   4   2   1   * 37 \n",
            "\n",
            "1   3   4   6   7   6   7   6   5   8   * 53 \n",
            "\n",
            "2   5   8   0   3   3   7   2   7   6   * 43 \n",
            "\n",
            "3   8   7   5   1   5   4   1   5   6   * 45 \n",
            "\n",
            "1   8   7   8   4   4   6   8   6   4   * 56 \n",
            "\n",
            "1   4   8   8   5   2   3   6   1   4   * 42 \n",
            "\n",
            "0   0   1   1   6   8   1   1   4   2   * 24 \n",
            "\n",
            "2   7   4   2   3   2   3   3   7   6   * 39 \n",
            "\n",
            "0   0   5   4   3   4   7   5   8   0   * 36 \n",
            "\n"
          ]
        }
      ]
    },
    {
      "cell_type": "code",
      "source": [
        "#4\n",
        "count=0\n",
        "print()\n",
        "for i in range(43):\n",
        "    print(\"*\", end=\"\")\n",
        "print(\"\")\n",
        "\n",
        "for i in range(10):\n",
        "    print(\"*\", end=\" \")\n",
        "    for j in range(10):\n",
        "        print(numbers[count],\" \", end =\" \")\n",
        "        count+=1\n",
        "    print(\"*\",\"\\n\")\n",
        "\n",
        "for i in range(43):\n",
        "    print(\"*\", end=\"\")\n",
        "print(\"\")"
      ],
      "metadata": {
        "colab": {
          "base_uri": "https://localhost:8080/"
        },
        "id": "k5eJ7LDeFXFm",
        "outputId": "3f54b6c4-3ff1-46d8-ffee-9c8afbbfa3d6"
      },
      "execution_count": 5,
      "outputs": [
        {
          "output_type": "stream",
          "name": "stdout",
          "text": [
            "\n",
            "*******************************************\n",
            "* 8   1   0   2   7   1   5   5   3   7   * \n",
            "\n",
            "* 3   4   7   2   2   7   5   4   2   1   * \n",
            "\n",
            "* 1   3   4   6   7   6   7   6   5   8   * \n",
            "\n",
            "* 2   5   8   0   3   3   7   2   7   6   * \n",
            "\n",
            "* 3   8   7   5   1   5   4   1   5   6   * \n",
            "\n",
            "* 1   8   7   8   4   4   6   8   6   4   * \n",
            "\n",
            "* 1   4   8   8   5   2   3   6   1   4   * \n",
            "\n",
            "* 0   0   1   1   6   8   1   1   4   2   * \n",
            "\n",
            "* 2   7   4   2   3   2   3   3   7   6   * \n",
            "\n",
            "* 0   0   5   4   3   4   7   5   8   0   * \n",
            "\n",
            "*******************************************\n"
          ]
        }
      ]
    },
    {
      "cell_type": "code",
      "source": [
        "#5\n",
        "count=0\n",
        "for i in range(10):\n",
        "    sum=0\n",
        "    for j in range(10):\n",
        "        print(numbers[count],\" \", end =\" \")\n",
        "        sum+=numbers[count]\n",
        "        count+=1\n",
        "    print(\"*\",sum,\"\\n\")\n",
        "for i in range(10):\n",
        "    print(\"*\",\" \", end=\" \")\n",
        "print(\"\")\n",
        "\n",
        "sum_vertical=[]\n",
        "for i in range(10):\n",
        "    num_range=range(i,100,10)\n",
        "    sum=0\n",
        "    for j in list(num_range):\n",
        "        sum+=numbers[j]\n",
        "    sum_vertical.append(sum)\n",
        "\n",
        "for i in range(10):\n",
        "    print(sum_vertical[i],\"\", end=\" \")\n",
        "print(\"\")\n"
      ],
      "metadata": {
        "colab": {
          "base_uri": "https://localhost:8080/"
        },
        "id": "VfiLp21DFgZ7",
        "outputId": "9bc4e474-c276-4cd4-ea8c-33645a5c6d5c"
      },
      "execution_count": 6,
      "outputs": [
        {
          "output_type": "stream",
          "name": "stdout",
          "text": [
            "8   1   0   2   7   1   5   5   3   7   * 39 \n",
            "\n",
            "3   4   7   2   2   7   5   4   2   1   * 37 \n",
            "\n",
            "1   3   4   6   7   6   7   6   5   8   * 53 \n",
            "\n",
            "2   5   8   0   3   3   7   2   7   6   * 43 \n",
            "\n",
            "3   8   7   5   1   5   4   1   5   6   * 45 \n",
            "\n",
            "1   8   7   8   4   4   6   8   6   4   * 56 \n",
            "\n",
            "1   4   8   8   5   2   3   6   1   4   * 42 \n",
            "\n",
            "0   0   1   1   6   8   1   1   4   2   * 24 \n",
            "\n",
            "2   7   4   2   3   2   3   3   7   6   * 39 \n",
            "\n",
            "0   0   5   4   3   4   7   5   8   0   * 36 \n",
            "\n",
            "*   *   *   *   *   *   *   *   *   *   \n",
            "21  40  51  38  41  42  48  41  48  44  \n"
          ]
        }
      ]
    },
    {
      "cell_type": "code",
      "source": [
        ""
      ],
      "metadata": {
        "id": "nxjDHe1IFlpS"
      },
      "execution_count": null,
      "outputs": []
    }
  ]
}