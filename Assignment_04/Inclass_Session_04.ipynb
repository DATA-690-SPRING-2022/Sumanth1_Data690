{
  "nbformat": 4,
  "nbformat_minor": 0,
  "metadata": {
    "colab": {
      "name": "Inclass_Session_04.ipynb",
      "provenance": [],
      "authorship_tag": "ABX9TyNNeZVYS/GGCFyaILsRek97",
      "include_colab_link": true
    },
    "kernelspec": {
      "name": "python3",
      "display_name": "Python 3"
    },
    "language_info": {
      "name": "python"
    }
  },
  "cells": [
    {
      "cell_type": "markdown",
      "metadata": {
        "id": "view-in-github",
        "colab_type": "text"
      },
      "source": [
        "<a href=\"https://colab.research.google.com/github/VENKATB3/Sumanth1_Data690/blob/main/Assignment_04/Inclass_Session_04.ipynb\" target=\"_parent\"><img src=\"https://colab.research.google.com/assets/colab-badge.svg\" alt=\"Open In Colab\"/></a>"
      ]
    },
    {
      "cell_type": "code",
      "execution_count": null,
      "metadata": {
        "id": "4pd8PJEu0S_Y"
      },
      "outputs": [],
      "source": [
        ""
      ]
    },
    {
      "cell_type": "markdown",
      "source": [
        "# In class practice\n",
        "* Date:02/21/2022\n",
        "* Name:Sumanth Teja"
      ],
      "metadata": {
        "id": "dx425FrU0dh5"
      }
    },
    {
      "cell_type": "code",
      "source": [
        "import random\n",
        "import re\n",
        "for i in range(0,10):\n",
        "    print(end=\"\\n \")\n",
        "    for j in range(0,10):\n",
        "        num=random.randint(0,9)\n",
        "        if (num % 2) == 0:\n",
        "            print(num, end=\" \")\n",
        "        else:\n",
        "            strnum = str(num)\n",
        "            strnum=strnum.replace(strnum,\"@\")\n",
        "            print(strnum, end=\" \")"
      ],
      "metadata": {
        "colab": {
          "base_uri": "https://localhost:8080/"
        },
        "id": "Q8pIy0Ve001M",
        "outputId": "9a31c1f8-6862-4391-f2a0-0b401ae6ec14"
      },
      "execution_count": 2,
      "outputs": [
        {
          "output_type": "stream",
          "name": "stdout",
          "text": [
            "\n",
            " 0 @ 8 @ 0 4 @ 6 @ 8 \n",
            " 6 2 @ 2 4 0 @ @ @ 4 \n",
            " @ 4 2 8 @ 0 6 @ 8 4 \n",
            " 4 4 @ @ @ @ @ @ @ 4 \n",
            " @ @ @ @ @ @ @ 4 @ @ \n",
            " @ @ @ @ 6 2 @ 4 @ @ \n",
            " 6 @ 8 @ 2 @ 8 @ @ @ \n",
            " 4 @ @ @ 2 4 @ @ @ @ \n",
            " 8 @ @ 2 @ 8 8 @ @ @ \n",
            " @ @ @ 6 @ @ @ 8 8 4 "
          ]
        }
      ]
    },
    {
      "cell_type": "code",
      "source": [
        "x = \"Hello Worlpd!\"\n",
        "\n",
        "print(x)"
      ],
      "metadata": {
        "colab": {
          "base_uri": "https://localhost:8080/"
        },
        "id": "nYZpfaak1Q_V",
        "outputId": "faf89257-c710-4871-c1b7-9ea0208498fe"
      },
      "execution_count": 3,
      "outputs": [
        {
          "output_type": "stream",
          "name": "stdout",
          "text": [
            "Hello Worlpd!\n"
          ]
        }
      ]
    },
    {
      "cell_type": "code",
      "source": [
        "x = x.replace(\"p\", \"\")\n",
        "\n",
        "print(x)"
      ],
      "metadata": {
        "colab": {
          "base_uri": "https://localhost:8080/"
        },
        "id": "8F01sD6y2iwr",
        "outputId": "00a175b4-3d5e-445d-aab1-0a13bc4e973d"
      },
      "execution_count": 4,
      "outputs": [
        {
          "output_type": "stream",
          "name": "stdout",
          "text": [
            "Hello World!\n"
          ]
        }
      ]
    },
    {
      "cell_type": "code",
      "source": [
        "x = x.replace(\"Hello\", \"Hi\")\n",
        "\n",
        "print(x)"
      ],
      "metadata": {
        "colab": {
          "base_uri": "https://localhost:8080/"
        },
        "id": "nCXP-WKN2nwn",
        "outputId": "42b5877a-70c7-4408-d003-14000b73c644"
      },
      "execution_count": 5,
      "outputs": [
        {
          "output_type": "stream",
          "name": "stdout",
          "text": [
            "Hi World!\n"
          ]
        }
      ]
    },
    {
      "cell_type": "code",
      "source": [
        "x = x.upper()\n",
        "\n",
        "print(x)"
      ],
      "metadata": {
        "colab": {
          "base_uri": "https://localhost:8080/"
        },
        "id": "gqtjR5EG2tEb",
        "outputId": "028d0fc5-e375-456c-e040-5f194a7fb553"
      },
      "execution_count": 6,
      "outputs": [
        {
          "output_type": "stream",
          "name": "stdout",
          "text": [
            "HI WORLD!\n"
          ]
        }
      ]
    },
    {
      "cell_type": "code",
      "source": [
        "x = x.lower()\n",
        "\n",
        "print(x)"
      ],
      "metadata": {
        "colab": {
          "base_uri": "https://localhost:8080/"
        },
        "id": "AulAPyzx24qp",
        "outputId": "985a35d2-7e77-4fb7-fd06-277a939ad143"
      },
      "execution_count": 7,
      "outputs": [
        {
          "output_type": "stream",
          "name": "stdout",
          "text": [
            "hi world!\n"
          ]
        }
      ]
    },
    {
      "cell_type": "code",
      "source": [
        ""
      ],
      "metadata": {
        "id": "h4bO7q1T2_yi"
      },
      "execution_count": null,
      "outputs": []
    },
    {
      "cell_type": "markdown",
      "source": [
        "# String Functions\n",
        "* upper()\n",
        "* lower()\n",
        "* strip()\n",
        "* istrip()\n",
        "* rstrip()\n"
      ],
      "metadata": {
        "id": "WEQIZr9x3DUl"
      }
    },
    {
      "cell_type": "code",
      "source": [
        "# generate 100 numbers first\n",
        "\n",
        "numbers=[]\n",
        "for i in range(100):\n",
        "    numbers.append(random.randint(0, 9))\n",
        "\n",
        "print(numbers)\n",
        "print(len(numbers))"
      ],
      "metadata": {
        "colab": {
          "base_uri": "https://localhost:8080/"
        },
        "id": "P9iEP2DG3aTs",
        "outputId": "f612a569-ae9b-4f7a-bb7b-10604f12703f"
      },
      "execution_count": 10,
      "outputs": [
        {
          "output_type": "stream",
          "name": "stdout",
          "text": [
            "[9, 1, 9, 5, 8, 6, 4, 0, 5, 2, 1, 0, 1, 2, 8, 5, 8, 4, 7, 8, 6, 6, 8, 4, 3, 9, 4, 4, 6, 2, 8, 7, 9, 5, 9, 4, 6, 6, 9, 2, 3, 2, 1, 4, 6, 6, 3, 9, 7, 2, 8, 4, 2, 8, 1, 3, 3, 2, 2, 9, 9, 5, 4, 7, 3, 6, 0, 8, 3, 5, 9, 5, 6, 1, 4, 3, 0, 9, 6, 0, 2, 2, 0, 2, 6, 0, 8, 7, 4, 1, 9, 0, 3, 2, 5, 3, 2, 0, 9, 9]\n",
            "100\n"
          ]
        }
      ]
    },
    {
      "cell_type": "code",
      "source": [
        "for i in range(0,100,1):\n",
        "    print(\"index = \", i, \"number= \", numbers[i])"
      ],
      "metadata": {
        "colab": {
          "base_uri": "https://localhost:8080/"
        },
        "id": "xivXDhq444Ta",
        "outputId": "5db12bc3-5634-406d-a082-95bf359cb5c3"
      },
      "execution_count": 16,
      "outputs": [
        {
          "output_type": "stream",
          "name": "stdout",
          "text": [
            "index =  0 number=  9\n",
            "index =  1 number=  1\n",
            "index =  2 number=  9\n",
            "index =  3 number=  5\n",
            "index =  4 number=  8\n",
            "index =  5 number=  6\n",
            "index =  6 number=  4\n",
            "index =  7 number=  0\n",
            "index =  8 number=  5\n",
            "index =  9 number=  2\n",
            "index =  10 number=  1\n",
            "index =  11 number=  0\n",
            "index =  12 number=  1\n",
            "index =  13 number=  2\n",
            "index =  14 number=  8\n",
            "index =  15 number=  5\n",
            "index =  16 number=  8\n",
            "index =  17 number=  4\n",
            "index =  18 number=  7\n",
            "index =  19 number=  8\n",
            "index =  20 number=  6\n",
            "index =  21 number=  6\n",
            "index =  22 number=  8\n",
            "index =  23 number=  4\n",
            "index =  24 number=  3\n",
            "index =  25 number=  9\n",
            "index =  26 number=  4\n",
            "index =  27 number=  4\n",
            "index =  28 number=  6\n",
            "index =  29 number=  2\n",
            "index =  30 number=  8\n",
            "index =  31 number=  7\n",
            "index =  32 number=  9\n",
            "index =  33 number=  5\n",
            "index =  34 number=  9\n",
            "index =  35 number=  4\n",
            "index =  36 number=  6\n",
            "index =  37 number=  6\n",
            "index =  38 number=  9\n",
            "index =  39 number=  2\n",
            "index =  40 number=  3\n",
            "index =  41 number=  2\n",
            "index =  42 number=  1\n",
            "index =  43 number=  4\n",
            "index =  44 number=  6\n",
            "index =  45 number=  6\n",
            "index =  46 number=  3\n",
            "index =  47 number=  9\n",
            "index =  48 number=  7\n",
            "index =  49 number=  2\n",
            "index =  50 number=  8\n",
            "index =  51 number=  4\n",
            "index =  52 number=  2\n",
            "index =  53 number=  8\n",
            "index =  54 number=  1\n",
            "index =  55 number=  3\n",
            "index =  56 number=  3\n",
            "index =  57 number=  2\n",
            "index =  58 number=  2\n",
            "index =  59 number=  9\n",
            "index =  60 number=  9\n",
            "index =  61 number=  5\n",
            "index =  62 number=  4\n",
            "index =  63 number=  7\n",
            "index =  64 number=  3\n",
            "index =  65 number=  6\n",
            "index =  66 number=  0\n",
            "index =  67 number=  8\n",
            "index =  68 number=  3\n",
            "index =  69 number=  5\n",
            "index =  70 number=  9\n",
            "index =  71 number=  5\n",
            "index =  72 number=  6\n",
            "index =  73 number=  1\n",
            "index =  74 number=  4\n",
            "index =  75 number=  3\n",
            "index =  76 number=  0\n",
            "index =  77 number=  9\n",
            "index =  78 number=  6\n",
            "index =  79 number=  0\n",
            "index =  80 number=  2\n",
            "index =  81 number=  2\n",
            "index =  82 number=  0\n",
            "index =  83 number=  2\n",
            "index =  84 number=  6\n",
            "index =  85 number=  0\n",
            "index =  86 number=  8\n",
            "index =  87 number=  7\n",
            "index =  88 number=  4\n",
            "index =  89 number=  1\n",
            "index =  90 number=  9\n",
            "index =  91 number=  0\n",
            "index =  92 number=  3\n",
            "index =  93 number=  2\n",
            "index =  94 number=  5\n",
            "index =  95 number=  3\n",
            "index =  96 number=  2\n",
            "index =  97 number=  0\n",
            "index =  98 number=  9\n",
            "index =  99 number=  9\n"
          ]
        }
      ]
    },
    {
      "cell_type": "code",
      "source": [
        "count = 0\n",
        "for i in range(10):\n",
        "    for j in range(10):\n",
        "        print(numbers[count], \" \", end = \" \")\n",
        "        count+=1\n",
        "    print(\"\\n\")"
      ],
      "metadata": {
        "colab": {
          "base_uri": "https://localhost:8080/"
        },
        "id": "DUPKiS4H4JZb",
        "outputId": "c9a27d53-4424-45d7-ee1b-ac88ddba7d0c"
      },
      "execution_count": 11,
      "outputs": [
        {
          "output_type": "stream",
          "name": "stdout",
          "text": [
            "9   1   9   5   8   6   4   0   5   2   \n",
            "\n",
            "1   0   1   2   8   5   8   4   7   8   \n",
            "\n",
            "6   6   8   4   3   9   4   4   6   2   \n",
            "\n",
            "8   7   9   5   9   4   6   6   9   2   \n",
            "\n",
            "3   2   1   4   6   6   3   9   7   2   \n",
            "\n",
            "8   4   2   8   1   3   3   2   2   9   \n",
            "\n",
            "9   5   4   7   3   6   0   8   3   5   \n",
            "\n",
            "9   5   6   1   4   3   0   9   6   0   \n",
            "\n",
            "2   2   0   2   6   0   8   7   4   1   \n",
            "\n",
            "9   0   3   2   5   3   2   0   9   9   \n",
            "\n"
          ]
        }
      ]
    },
    {
      "cell_type": "code",
      "source": [
        "# when to initialize a variable\n",
        "\n",
        "sum=0\n",
        "for n in range (10): #repeats each row 10 times\n",
        "    for i in range(10): #repeats each integer 10 times\n",
        "       y=random.randint(0,9)\n",
        "       sum=sum+ y\n",
        "       print(y,end=\" \") #prints one integer with space at the end\n",
        "    print( \"*\",sum,end=\" \\n\")  #starts a new row after each 10 char\n",
        "    sum=0                     #resets sum to 0 before the next loop\n",
        "    "
      ],
      "metadata": {
        "colab": {
          "base_uri": "https://localhost:8080/"
        },
        "id": "4Ceoiy8a4t7I",
        "outputId": "f19b3370-6e70-49e2-fa43-941b82183aa9"
      },
      "execution_count": 17,
      "outputs": [
        {
          "output_type": "stream",
          "name": "stdout",
          "text": [
            "8 1 1 5 0 0 1 5 7 3 * 31 \n",
            "3 3 2 6 9 3 9 1 6 1 * 43 \n",
            "7 9 6 1 0 7 5 2 5 7 * 49 \n",
            "1 0 5 1 6 4 9 1 5 5 * 37 \n",
            "5 6 1 8 3 8 6 7 1 0 * 45 \n",
            "1 4 6 5 3 1 5 0 0 4 * 29 \n",
            "3 2 4 2 7 6 2 5 2 2 * 35 \n",
            "3 9 4 7 6 2 9 7 2 0 * 49 \n",
            "4 4 2 2 0 3 2 7 8 3 * 35 \n",
            "7 2 5 1 3 9 0 4 8 9 * 48 \n"
          ]
        }
      ]
    },
    {
      "cell_type": "code",
      "source": [
        "# when to initialize a variable\n",
        "\n",
        "\n",
        "for n in range (10): #repeats each row 10 times\n",
        "    sum=0\n",
        "    for i in range(10): #repeats each integer 10 times\n",
        "       y=random.randint(0,9)\n",
        "       sum=sum+ y\n",
        "       print(y,end=\" \") #prints one integer with space at the end\n",
        "    print( \"*\",sum,end=\" \\n\")  #starts a new row after each 10 char"
      ],
      "metadata": {
        "colab": {
          "base_uri": "https://localhost:8080/"
        },
        "id": "_DMujibg8DPU",
        "outputId": "3d2f26e2-031a-4525-b066-f12c4156bb87"
      },
      "execution_count": 18,
      "outputs": [
        {
          "output_type": "stream",
          "name": "stdout",
          "text": [
            "9 9 3 0 4 0 8 9 0 0 * 42 \n",
            "1 3 0 2 7 2 2 5 4 7 * 33 \n",
            "1 4 8 6 7 6 5 7 1 0 * 45 \n",
            "0 6 3 1 2 4 1 5 0 4 * 26 \n",
            "2 8 9 6 3 9 6 6 9 9 * 67 \n",
            "0 5 6 9 0 1 3 4 0 4 * 32 \n",
            "1 0 2 1 2 7 6 6 9 1 * 35 \n",
            "8 1 0 9 2 9 5 0 3 0 * 37 \n",
            "0 3 9 4 5 7 1 2 4 0 * 35 \n",
            "8 3 3 9 0 1 9 8 0 9 * 50 \n"
          ]
        }
      ]
    },
    {
      "cell_type": "code",
      "source": [
        "x = [0,0,0,0,0,0]\n",
        "\n",
        "print(x)"
      ],
      "metadata": {
        "colab": {
          "base_uri": "https://localhost:8080/"
        },
        "id": "-1Sfmgo-8GfF",
        "outputId": "810cbc52-f17a-479b-ab75-9df874910cdd"
      },
      "execution_count": 19,
      "outputs": [
        {
          "output_type": "stream",
          "name": "stdout",
          "text": [
            "[0, 0, 0, 0, 0, 0]\n"
          ]
        }
      ]
    },
    {
      "cell_type": "code",
      "source": [
        "x = [0] * 6\n",
        "\n",
        "print(x)"
      ],
      "metadata": {
        "colab": {
          "base_uri": "https://localhost:8080/"
        },
        "id": "ZmdVRpnB8J3_",
        "outputId": "94862ac9-d5bd-4ae3-a584-c90ed6a46988"
      },
      "execution_count": 20,
      "outputs": [
        {
          "output_type": "stream",
          "name": "stdout",
          "text": [
            "[0, 0, 0, 0, 0, 0]\n"
          ]
        }
      ]
    },
    {
      "cell_type": "code",
      "source": [
        "x = [0] * 100\n",
        "\n",
        "print(x)"
      ],
      "metadata": {
        "colab": {
          "base_uri": "https://localhost:8080/"
        },
        "id": "a72D6wYU8NBu",
        "outputId": "9ae93300-60b2-4485-adeb-b435149213f1"
      },
      "execution_count": 21,
      "outputs": [
        {
          "output_type": "stream",
          "name": "stdout",
          "text": [
            "[0, 0, 0, 0, 0, 0, 0, 0, 0, 0, 0, 0, 0, 0, 0, 0, 0, 0, 0, 0, 0, 0, 0, 0, 0, 0, 0, 0, 0, 0, 0, 0, 0, 0, 0, 0, 0, 0, 0, 0, 0, 0, 0, 0, 0, 0, 0, 0, 0, 0, 0, 0, 0, 0, 0, 0, 0, 0, 0, 0, 0, 0, 0, 0, 0, 0, 0, 0, 0, 0, 0, 0, 0, 0, 0, 0, 0, 0, 0, 0, 0, 0, 0, 0, 0, 0, 0, 0, 0, 0, 0, 0, 0, 0, 0, 0, 0, 0, 0, 0]\n"
          ]
        }
      ]
    },
    {
      "cell_type": "code",
      "source": [
        ""
      ],
      "metadata": {
        "id": "av-0f1Dp8PP3"
      },
      "execution_count": null,
      "outputs": []
    }
  ]
}